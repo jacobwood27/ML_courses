{
 "cells": [
  {
   "cell_type": "markdown",
   "metadata": {},
   "source": [
    "# Week 4 Peer Review"
   ]
  },
  {
   "cell_type": "markdown",
   "metadata": {},
   "source": [
    "Week 4 Peer Review - Working with Distributions and DataFrames. To help you with this task, comments are added to each cell."
   ]
  },
  {
   "cell_type": "code",
   "execution_count": 2,
   "metadata": {},
   "outputs": [
    {
     "name": "stderr",
     "output_type": "stream",
     "text": [
      "┌ Info: Precompiling Distributions [31c24e10-a181-5473-b8eb-7969acd0382f]\n",
      "└ @ Base loading.jl:1186\n",
      "┌ Info: Precompiling DataFrames [a93c6f00-e57d-5684-b7b6-d8193f3e46c0]\n",
      "└ @ Base loading.jl:1186\n"
     ]
    }
   ],
   "source": [
    "# Import the required packages\n",
    "using Distributions, DataFrames"
   ]
  },
  {
   "cell_type": "code",
   "execution_count": 5,
   "metadata": {},
   "outputs": [],
   "source": [
    "# Seed the random number generator\n"
   ]
  },
  {
   "cell_type": "code",
   "execution_count": 13,
   "metadata": {},
   "outputs": [
    {
     "data": {
      "text/plain": [
       "30×3 Array{Float64,2}:\n",
       " 0.12619    0.572304  0.299067 \n",
       " 0.583571   0.510409  0.0505972\n",
       " 0.429487   0.328338  0.993108 \n",
       " 0.654079   0.428025  0.912229 \n",
       " 0.615694   0.047599  0.435421 \n",
       " 0.985017   0.190425  0.740756 \n",
       " 0.691368   0.278004  0.565829 \n",
       " 0.385205   0.757276  0.863702 \n",
       " 0.325575   0.395417  0.316659 \n",
       " 0.0948113  0.997158  0.0132392\n",
       " 0.183454   0.238079  0.793259 \n",
       " 0.10042    0.724577  0.0637017\n",
       " 0.469861   0.27834   0.682048 \n",
       " ⋮                             \n",
       " 0.523951   0.140486  0.232837 \n",
       " 0.666074   0.671311  0.332323 \n",
       " 0.67073    0.857086  0.219483 \n",
       " 0.259171   0.764807  0.334544 \n",
       " 0.8607     0.701472  0.85039  \n",
       " 0.591217   0.382439  0.461405 \n",
       " 0.982663   0.732113  0.783217 \n",
       " 0.801367   0.110339  0.552376 \n",
       " 0.365878   0.189886  0.317416 \n",
       " 0.925427   0.637402  0.240136 \n",
       " 0.752976   0.688855  0.800782 \n",
       " 0.42813    0.90179   0.458813 "
      ]
     },
     "execution_count": 13,
     "metadata": {},
     "output_type": "execute_result"
    }
   ],
   "source": [
    "# Question 4: Create the 3 x 30 array named array_1\n",
    "array_1 = rand(30,3) "
   ]
  },
  {
   "cell_type": "code",
   "execution_count": 9,
   "metadata": {},
   "outputs": [
    {
     "data": {
      "text/plain": [
       "\"Mean: 0.46037222799193006   Variance: 0.0041457645338765555\""
      ]
     },
     "execution_count": 9,
     "metadata": {},
     "output_type": "execute_result"
    }
   ],
   "source": [
    "# Question 5: Mean and variance of column 1\n",
    "\"Mean: $(mean(array_1[:,1]))   Variance: $(var(array_1[:,1]))\""
   ]
  },
  {
   "cell_type": "code",
   "execution_count": 14,
   "metadata": {},
   "outputs": [
    {
     "data": {
      "text/plain": [
       "\"Mean: 0.506485898503955   Variance: 0.0793949936476744\""
      ]
     },
     "execution_count": 14,
     "metadata": {},
     "output_type": "execute_result"
    }
   ],
   "source": [
    "# Question 5 (continued): Mean and variance of column 2\n",
    "\"Mean: $(mean(array_1[:,2]))   Variance: $(var(array_1[:,2]))\""
   ]
  },
  {
   "cell_type": "code",
   "execution_count": 15,
   "metadata": {},
   "outputs": [
    {
     "data": {
      "text/plain": [
       "\"Mean: 0.5033785612554251   Variance: 0.0763135144295277\""
      ]
     },
     "execution_count": 15,
     "metadata": {},
     "output_type": "execute_result"
    }
   ],
   "source": [
    "# Question 5 (continued): Mean and variance of column 3\n",
    "\"Mean: $(mean(array_1[:,3]))   Variance: $(var(array_1[:,3]))\""
   ]
  },
  {
   "cell_type": "code",
   "execution_count": 16,
   "metadata": {},
   "outputs": [
    {
     "data": {
      "text/html": [
       "<table class=\"data-frame\"><thead><tr><th></th><th>x1</th><th>x2</th><th>x3</th></tr><tr><th></th><th>Float64</th><th>Float64</th><th>Float64</th></tr></thead><tbody><p>30 rows × 3 columns</p><tr><th>1</th><td>0.12619</td><td>0.572304</td><td>0.299067</td></tr><tr><th>2</th><td>0.583571</td><td>0.510409</td><td>0.0505972</td></tr><tr><th>3</th><td>0.429487</td><td>0.328338</td><td>0.993108</td></tr><tr><th>4</th><td>0.654079</td><td>0.428025</td><td>0.912229</td></tr><tr><th>5</th><td>0.615694</td><td>0.047599</td><td>0.435421</td></tr><tr><th>6</th><td>0.985017</td><td>0.190425</td><td>0.740756</td></tr><tr><th>7</th><td>0.691368</td><td>0.278004</td><td>0.565829</td></tr><tr><th>8</th><td>0.385205</td><td>0.757276</td><td>0.863702</td></tr><tr><th>9</th><td>0.325575</td><td>0.395417</td><td>0.316659</td></tr><tr><th>10</th><td>0.0948113</td><td>0.997158</td><td>0.0132392</td></tr><tr><th>11</th><td>0.183454</td><td>0.238079</td><td>0.793259</td></tr><tr><th>12</th><td>0.10042</td><td>0.724577</td><td>0.0637017</td></tr><tr><th>13</th><td>0.469861</td><td>0.27834</td><td>0.682048</td></tr><tr><th>14</th><td>0.509748</td><td>0.845894</td><td>0.389007</td></tr><tr><th>15</th><td>0.737351</td><td>0.385296</td><td>0.405424</td></tr><tr><th>16</th><td>0.620465</td><td>0.887309</td><td>0.83877</td></tr><tr><th>17</th><td>0.837732</td><td>0.510466</td><td>0.46473</td></tr><tr><th>18</th><td>0.906003</td><td>0.0416784</td><td>0.690089</td></tr><tr><th>19</th><td>0.523951</td><td>0.140486</td><td>0.232837</td></tr><tr><th>20</th><td>0.666074</td><td>0.671311</td><td>0.332323</td></tr><tr><th>21</th><td>0.67073</td><td>0.857086</td><td>0.219483</td></tr><tr><th>22</th><td>0.259171</td><td>0.764807</td><td>0.334544</td></tr><tr><th>23</th><td>0.8607</td><td>0.701472</td><td>0.85039</td></tr><tr><th>24</th><td>0.591217</td><td>0.382439</td><td>0.461405</td></tr><tr><th>25</th><td>0.982663</td><td>0.732113</td><td>0.783217</td></tr><tr><th>26</th><td>0.801367</td><td>0.110339</td><td>0.552376</td></tr><tr><th>27</th><td>0.365878</td><td>0.189886</td><td>0.317416</td></tr><tr><th>28</th><td>0.925427</td><td>0.637402</td><td>0.240136</td></tr><tr><th>29</th><td>0.752976</td><td>0.688855</td><td>0.800782</td></tr><tr><th>30</th><td>0.42813</td><td>0.90179</td><td>0.458813</td></tr></tbody></table>"
      ],
      "text/latex": [
       "\\begin{tabular}{r|ccc}\n",
       "\t& x1 & x2 & x3\\\\\n",
       "\t\\hline\n",
       "\t& Float64 & Float64 & Float64\\\\\n",
       "\t\\hline\n",
       "\t1 & 0.12619 & 0.572304 & 0.299067 \\\\\n",
       "\t2 & 0.583571 & 0.510409 & 0.0505972 \\\\\n",
       "\t3 & 0.429487 & 0.328338 & 0.993108 \\\\\n",
       "\t4 & 0.654079 & 0.428025 & 0.912229 \\\\\n",
       "\t5 & 0.615694 & 0.047599 & 0.435421 \\\\\n",
       "\t6 & 0.985017 & 0.190425 & 0.740756 \\\\\n",
       "\t7 & 0.691368 & 0.278004 & 0.565829 \\\\\n",
       "\t8 & 0.385205 & 0.757276 & 0.863702 \\\\\n",
       "\t9 & 0.325575 & 0.395417 & 0.316659 \\\\\n",
       "\t10 & 0.0948113 & 0.997158 & 0.0132392 \\\\\n",
       "\t11 & 0.183454 & 0.238079 & 0.793259 \\\\\n",
       "\t12 & 0.10042 & 0.724577 & 0.0637017 \\\\\n",
       "\t13 & 0.469861 & 0.27834 & 0.682048 \\\\\n",
       "\t14 & 0.509748 & 0.845894 & 0.389007 \\\\\n",
       "\t15 & 0.737351 & 0.385296 & 0.405424 \\\\\n",
       "\t16 & 0.620465 & 0.887309 & 0.83877 \\\\\n",
       "\t17 & 0.837732 & 0.510466 & 0.46473 \\\\\n",
       "\t18 & 0.906003 & 0.0416784 & 0.690089 \\\\\n",
       "\t19 & 0.523951 & 0.140486 & 0.232837 \\\\\n",
       "\t20 & 0.666074 & 0.671311 & 0.332323 \\\\\n",
       "\t21 & 0.67073 & 0.857086 & 0.219483 \\\\\n",
       "\t22 & 0.259171 & 0.764807 & 0.334544 \\\\\n",
       "\t23 & 0.8607 & 0.701472 & 0.85039 \\\\\n",
       "\t24 & 0.591217 & 0.382439 & 0.461405 \\\\\n",
       "\t25 & 0.982663 & 0.732113 & 0.783217 \\\\\n",
       "\t26 & 0.801367 & 0.110339 & 0.552376 \\\\\n",
       "\t27 & 0.365878 & 0.189886 & 0.317416 \\\\\n",
       "\t28 & 0.925427 & 0.637402 & 0.240136 \\\\\n",
       "\t29 & 0.752976 & 0.688855 & 0.800782 \\\\\n",
       "\t30 & 0.42813 & 0.90179 & 0.458813 \\\\\n",
       "\\end{tabular}\n"
      ],
      "text/plain": [
       "30×3 DataFrame\n",
       "│ Row │ x1        │ x2       │ x3        │\n",
       "│     │ \u001b[90mFloat64\u001b[39m   │ \u001b[90mFloat64\u001b[39m  │ \u001b[90mFloat64\u001b[39m   │\n",
       "├─────┼───────────┼──────────┼───────────┤\n",
       "│ 1   │ 0.12619   │ 0.572304 │ 0.299067  │\n",
       "│ 2   │ 0.583571  │ 0.510409 │ 0.0505972 │\n",
       "│ 3   │ 0.429487  │ 0.328338 │ 0.993108  │\n",
       "│ 4   │ 0.654079  │ 0.428025 │ 0.912229  │\n",
       "│ 5   │ 0.615694  │ 0.047599 │ 0.435421  │\n",
       "│ 6   │ 0.985017  │ 0.190425 │ 0.740756  │\n",
       "│ 7   │ 0.691368  │ 0.278004 │ 0.565829  │\n",
       "│ 8   │ 0.385205  │ 0.757276 │ 0.863702  │\n",
       "│ 9   │ 0.325575  │ 0.395417 │ 0.316659  │\n",
       "│ 10  │ 0.0948113 │ 0.997158 │ 0.0132392 │\n",
       "⋮\n",
       "│ 20  │ 0.666074  │ 0.671311 │ 0.332323  │\n",
       "│ 21  │ 0.67073   │ 0.857086 │ 0.219483  │\n",
       "│ 22  │ 0.259171  │ 0.764807 │ 0.334544  │\n",
       "│ 23  │ 0.8607    │ 0.701472 │ 0.85039   │\n",
       "│ 24  │ 0.591217  │ 0.382439 │ 0.461405  │\n",
       "│ 25  │ 0.982663  │ 0.732113 │ 0.783217  │\n",
       "│ 26  │ 0.801367  │ 0.110339 │ 0.552376  │\n",
       "│ 27  │ 0.365878  │ 0.189886 │ 0.317416  │\n",
       "│ 28  │ 0.925427  │ 0.637402 │ 0.240136  │\n",
       "│ 29  │ 0.752976  │ 0.688855 │ 0.800782  │\n",
       "│ 30  │ 0.42813   │ 0.90179  │ 0.458813  │"
      ]
     },
     "execution_count": 16,
     "metadata": {},
     "output_type": "execute_result"
    }
   ],
   "source": [
    "# Question 6: Import array_1 into a DataFrame named df\n",
    "df = DataFrame(array_1) \n"
   ]
  },
  {
   "cell_type": "code",
   "execution_count": 21,
   "metadata": {},
   "outputs": [
    {
     "data": {
      "text/html": [
       "<table class=\"data-frame\"><thead><tr><th></th><th>Var1</th><th>Var2</th><th>Var3</th></tr><tr><th></th><th>Float64</th><th>Float64</th><th>Float64</th></tr></thead><tbody><p>30 rows × 3 columns</p><tr><th>1</th><td>0.12619</td><td>0.572304</td><td>0.299067</td></tr><tr><th>2</th><td>0.583571</td><td>0.510409</td><td>0.0505972</td></tr><tr><th>3</th><td>0.429487</td><td>0.328338</td><td>0.993108</td></tr><tr><th>4</th><td>0.654079</td><td>0.428025</td><td>0.912229</td></tr><tr><th>5</th><td>0.615694</td><td>0.047599</td><td>0.435421</td></tr><tr><th>6</th><td>0.985017</td><td>0.190425</td><td>0.740756</td></tr><tr><th>7</th><td>0.691368</td><td>0.278004</td><td>0.565829</td></tr><tr><th>8</th><td>0.385205</td><td>0.757276</td><td>0.863702</td></tr><tr><th>9</th><td>0.325575</td><td>0.395417</td><td>0.316659</td></tr><tr><th>10</th><td>0.0948113</td><td>0.997158</td><td>0.0132392</td></tr><tr><th>11</th><td>0.183454</td><td>0.238079</td><td>0.793259</td></tr><tr><th>12</th><td>0.10042</td><td>0.724577</td><td>0.0637017</td></tr><tr><th>13</th><td>0.469861</td><td>0.27834</td><td>0.682048</td></tr><tr><th>14</th><td>0.509748</td><td>0.845894</td><td>0.389007</td></tr><tr><th>15</th><td>0.737351</td><td>0.385296</td><td>0.405424</td></tr><tr><th>16</th><td>0.620465</td><td>0.887309</td><td>0.83877</td></tr><tr><th>17</th><td>0.837732</td><td>0.510466</td><td>0.46473</td></tr><tr><th>18</th><td>0.906003</td><td>0.0416784</td><td>0.690089</td></tr><tr><th>19</th><td>0.523951</td><td>0.140486</td><td>0.232837</td></tr><tr><th>20</th><td>0.666074</td><td>0.671311</td><td>0.332323</td></tr><tr><th>21</th><td>0.67073</td><td>0.857086</td><td>0.219483</td></tr><tr><th>22</th><td>0.259171</td><td>0.764807</td><td>0.334544</td></tr><tr><th>23</th><td>0.8607</td><td>0.701472</td><td>0.85039</td></tr><tr><th>24</th><td>0.591217</td><td>0.382439</td><td>0.461405</td></tr><tr><th>25</th><td>0.982663</td><td>0.732113</td><td>0.783217</td></tr><tr><th>26</th><td>0.801367</td><td>0.110339</td><td>0.552376</td></tr><tr><th>27</th><td>0.365878</td><td>0.189886</td><td>0.317416</td></tr><tr><th>28</th><td>0.925427</td><td>0.637402</td><td>0.240136</td></tr><tr><th>29</th><td>0.752976</td><td>0.688855</td><td>0.800782</td></tr><tr><th>30</th><td>0.42813</td><td>0.90179</td><td>0.458813</td></tr></tbody></table>"
      ],
      "text/latex": [
       "\\begin{tabular}{r|ccc}\n",
       "\t& Var1 & Var2 & Var3\\\\\n",
       "\t\\hline\n",
       "\t& Float64 & Float64 & Float64\\\\\n",
       "\t\\hline\n",
       "\t1 & 0.12619 & 0.572304 & 0.299067 \\\\\n",
       "\t2 & 0.583571 & 0.510409 & 0.0505972 \\\\\n",
       "\t3 & 0.429487 & 0.328338 & 0.993108 \\\\\n",
       "\t4 & 0.654079 & 0.428025 & 0.912229 \\\\\n",
       "\t5 & 0.615694 & 0.047599 & 0.435421 \\\\\n",
       "\t6 & 0.985017 & 0.190425 & 0.740756 \\\\\n",
       "\t7 & 0.691368 & 0.278004 & 0.565829 \\\\\n",
       "\t8 & 0.385205 & 0.757276 & 0.863702 \\\\\n",
       "\t9 & 0.325575 & 0.395417 & 0.316659 \\\\\n",
       "\t10 & 0.0948113 & 0.997158 & 0.0132392 \\\\\n",
       "\t11 & 0.183454 & 0.238079 & 0.793259 \\\\\n",
       "\t12 & 0.10042 & 0.724577 & 0.0637017 \\\\\n",
       "\t13 & 0.469861 & 0.27834 & 0.682048 \\\\\n",
       "\t14 & 0.509748 & 0.845894 & 0.389007 \\\\\n",
       "\t15 & 0.737351 & 0.385296 & 0.405424 \\\\\n",
       "\t16 & 0.620465 & 0.887309 & 0.83877 \\\\\n",
       "\t17 & 0.837732 & 0.510466 & 0.46473 \\\\\n",
       "\t18 & 0.906003 & 0.0416784 & 0.690089 \\\\\n",
       "\t19 & 0.523951 & 0.140486 & 0.232837 \\\\\n",
       "\t20 & 0.666074 & 0.671311 & 0.332323 \\\\\n",
       "\t21 & 0.67073 & 0.857086 & 0.219483 \\\\\n",
       "\t22 & 0.259171 & 0.764807 & 0.334544 \\\\\n",
       "\t23 & 0.8607 & 0.701472 & 0.85039 \\\\\n",
       "\t24 & 0.591217 & 0.382439 & 0.461405 \\\\\n",
       "\t25 & 0.982663 & 0.732113 & 0.783217 \\\\\n",
       "\t26 & 0.801367 & 0.110339 & 0.552376 \\\\\n",
       "\t27 & 0.365878 & 0.189886 & 0.317416 \\\\\n",
       "\t28 & 0.925427 & 0.637402 & 0.240136 \\\\\n",
       "\t29 & 0.752976 & 0.688855 & 0.800782 \\\\\n",
       "\t30 & 0.42813 & 0.90179 & 0.458813 \\\\\n",
       "\\end{tabular}\n"
      ],
      "text/plain": [
       "30×3 DataFrame\n",
       "│ Row │ Var1      │ Var2     │ Var3      │\n",
       "│     │ \u001b[90mFloat64\u001b[39m   │ \u001b[90mFloat64\u001b[39m  │ \u001b[90mFloat64\u001b[39m   │\n",
       "├─────┼───────────┼──────────┼───────────┤\n",
       "│ 1   │ 0.12619   │ 0.572304 │ 0.299067  │\n",
       "│ 2   │ 0.583571  │ 0.510409 │ 0.0505972 │\n",
       "│ 3   │ 0.429487  │ 0.328338 │ 0.993108  │\n",
       "│ 4   │ 0.654079  │ 0.428025 │ 0.912229  │\n",
       "│ 5   │ 0.615694  │ 0.047599 │ 0.435421  │\n",
       "│ 6   │ 0.985017  │ 0.190425 │ 0.740756  │\n",
       "│ 7   │ 0.691368  │ 0.278004 │ 0.565829  │\n",
       "│ 8   │ 0.385205  │ 0.757276 │ 0.863702  │\n",
       "│ 9   │ 0.325575  │ 0.395417 │ 0.316659  │\n",
       "│ 10  │ 0.0948113 │ 0.997158 │ 0.0132392 │\n",
       "⋮\n",
       "│ 20  │ 0.666074  │ 0.671311 │ 0.332323  │\n",
       "│ 21  │ 0.67073   │ 0.857086 │ 0.219483  │\n",
       "│ 22  │ 0.259171  │ 0.764807 │ 0.334544  │\n",
       "│ 23  │ 0.8607    │ 0.701472 │ 0.85039   │\n",
       "│ 24  │ 0.591217  │ 0.382439 │ 0.461405  │\n",
       "│ 25  │ 0.982663  │ 0.732113 │ 0.783217  │\n",
       "│ 26  │ 0.801367  │ 0.110339 │ 0.552376  │\n",
       "│ 27  │ 0.365878  │ 0.189886 │ 0.317416  │\n",
       "│ 28  │ 0.925427  │ 0.637402 │ 0.240136  │\n",
       "│ 29  │ 0.752976  │ 0.688855 │ 0.800782  │\n",
       "│ 30  │ 0.42813   │ 0.90179  │ 0.458813  │"
      ]
     },
     "execution_count": 21,
     "metadata": {},
     "output_type": "execute_result"
    }
   ],
   "source": [
    "# Question 7: Change the names of the columns to Var1, Var2, and Var3\n",
    "names!(df, [Symbol(\"Var$i\") for i in 1:3])"
   ]
  },
  {
   "cell_type": "code",
   "execution_count": 34,
   "metadata": {},
   "outputs": [
    {
     "data": {
      "text/html": [
       "<table class=\"data-frame\"><thead><tr><th></th><th>Var1</th><th>Var2</th><th>Var3</th></tr><tr><th></th><th>Float64</th><th>Float64</th><th>Float64</th></tr></thead><tbody><p>20 rows × 3 columns</p><tr><th>1</th><td>0.183454</td><td>0.238079</td><td>0.793259</td></tr><tr><th>2</th><td>0.10042</td><td>0.724577</td><td>0.0637017</td></tr><tr><th>3</th><td>0.469861</td><td>0.27834</td><td>0.682048</td></tr><tr><th>4</th><td>0.509748</td><td>0.845894</td><td>0.389007</td></tr><tr><th>5</th><td>0.737351</td><td>0.385296</td><td>0.405424</td></tr><tr><th>6</th><td>0.620465</td><td>0.887309</td><td>0.83877</td></tr><tr><th>7</th><td>0.837732</td><td>0.510466</td><td>0.46473</td></tr><tr><th>8</th><td>0.906003</td><td>0.0416784</td><td>0.690089</td></tr><tr><th>9</th><td>0.523951</td><td>0.140486</td><td>0.232837</td></tr><tr><th>10</th><td>0.666074</td><td>0.671311</td><td>0.332323</td></tr><tr><th>11</th><td>0.67073</td><td>0.857086</td><td>0.219483</td></tr><tr><th>12</th><td>0.259171</td><td>0.764807</td><td>0.334544</td></tr><tr><th>13</th><td>0.8607</td><td>0.701472</td><td>0.85039</td></tr><tr><th>14</th><td>0.591217</td><td>0.382439</td><td>0.461405</td></tr><tr><th>15</th><td>0.982663</td><td>0.732113</td><td>0.783217</td></tr><tr><th>16</th><td>0.801367</td><td>0.110339</td><td>0.552376</td></tr><tr><th>17</th><td>0.365878</td><td>0.189886</td><td>0.317416</td></tr><tr><th>18</th><td>0.925427</td><td>0.637402</td><td>0.240136</td></tr><tr><th>19</th><td>0.752976</td><td>0.688855</td><td>0.800782</td></tr><tr><th>20</th><td>0.42813</td><td>0.90179</td><td>0.458813</td></tr></tbody></table>"
      ],
      "text/latex": [
       "\\begin{tabular}{r|ccc}\n",
       "\t& Var1 & Var2 & Var3\\\\\n",
       "\t\\hline\n",
       "\t& Float64 & Float64 & Float64\\\\\n",
       "\t\\hline\n",
       "\t1 & 0.183454 & 0.238079 & 0.793259 \\\\\n",
       "\t2 & 0.10042 & 0.724577 & 0.0637017 \\\\\n",
       "\t3 & 0.469861 & 0.27834 & 0.682048 \\\\\n",
       "\t4 & 0.509748 & 0.845894 & 0.389007 \\\\\n",
       "\t5 & 0.737351 & 0.385296 & 0.405424 \\\\\n",
       "\t6 & 0.620465 & 0.887309 & 0.83877 \\\\\n",
       "\t7 & 0.837732 & 0.510466 & 0.46473 \\\\\n",
       "\t8 & 0.906003 & 0.0416784 & 0.690089 \\\\\n",
       "\t9 & 0.523951 & 0.140486 & 0.232837 \\\\\n",
       "\t10 & 0.666074 & 0.671311 & 0.332323 \\\\\n",
       "\t11 & 0.67073 & 0.857086 & 0.219483 \\\\\n",
       "\t12 & 0.259171 & 0.764807 & 0.334544 \\\\\n",
       "\t13 & 0.8607 & 0.701472 & 0.85039 \\\\\n",
       "\t14 & 0.591217 & 0.382439 & 0.461405 \\\\\n",
       "\t15 & 0.982663 & 0.732113 & 0.783217 \\\\\n",
       "\t16 & 0.801367 & 0.110339 & 0.552376 \\\\\n",
       "\t17 & 0.365878 & 0.189886 & 0.317416 \\\\\n",
       "\t18 & 0.925427 & 0.637402 & 0.240136 \\\\\n",
       "\t19 & 0.752976 & 0.688855 & 0.800782 \\\\\n",
       "\t20 & 0.42813 & 0.90179 & 0.458813 \\\\\n",
       "\\end{tabular}\n"
      ],
      "text/plain": [
       "20×3 DataFrame\n",
       "│ Row │ Var1     │ Var2      │ Var3      │\n",
       "│     │ \u001b[90mFloat64\u001b[39m  │ \u001b[90mFloat64\u001b[39m   │ \u001b[90mFloat64\u001b[39m   │\n",
       "├─────┼──────────┼───────────┼───────────┤\n",
       "│ 1   │ 0.183454 │ 0.238079  │ 0.793259  │\n",
       "│ 2   │ 0.10042  │ 0.724577  │ 0.0637017 │\n",
       "│ 3   │ 0.469861 │ 0.27834   │ 0.682048  │\n",
       "│ 4   │ 0.509748 │ 0.845894  │ 0.389007  │\n",
       "│ 5   │ 0.737351 │ 0.385296  │ 0.405424  │\n",
       "│ 6   │ 0.620465 │ 0.887309  │ 0.83877   │\n",
       "│ 7   │ 0.837732 │ 0.510466  │ 0.46473   │\n",
       "│ 8   │ 0.906003 │ 0.0416784 │ 0.690089  │\n",
       "│ 9   │ 0.523951 │ 0.140486  │ 0.232837  │\n",
       "│ 10  │ 0.666074 │ 0.671311  │ 0.332323  │\n",
       "│ 11  │ 0.67073  │ 0.857086  │ 0.219483  │\n",
       "│ 12  │ 0.259171 │ 0.764807  │ 0.334544  │\n",
       "│ 13  │ 0.8607   │ 0.701472  │ 0.85039   │\n",
       "│ 14  │ 0.591217 │ 0.382439  │ 0.461405  │\n",
       "│ 15  │ 0.982663 │ 0.732113  │ 0.783217  │\n",
       "│ 16  │ 0.801367 │ 0.110339  │ 0.552376  │\n",
       "│ 17  │ 0.365878 │ 0.189886  │ 0.317416  │\n",
       "│ 18  │ 0.925427 │ 0.637402  │ 0.240136  │\n",
       "│ 19  │ 0.752976 │ 0.688855  │ 0.800782  │\n",
       "│ 20  │ 0.42813  │ 0.90179   │ 0.458813  │"
      ]
     },
     "execution_count": 34,
     "metadata": {},
     "output_type": "execute_result"
    }
   ],
   "source": [
    "# Question 8: Create and new DataFrame named df2 from the last 20 rows of df\n",
    "df2 = last(df,20)"
   ]
  },
  {
   "cell_type": "code",
   "execution_count": 35,
   "metadata": {},
   "outputs": [
    {
     "data": {
      "text/html": [
       "<table class=\"data-frame\"><thead><tr><th></th><th>variable</th><th>mean</th><th>min</th><th>median</th><th>max</th><th>nunique</th><th>nmissing</th><th>eltype</th></tr><tr><th></th><th>Symbol</th><th>Float64</th><th>Float64</th><th>Float64</th><th>Float64</th><th>Nothing</th><th>Nothing</th><th>DataType</th></tr></thead><tbody><p>3 rows × 8 columns</p><tr><th>1</th><td>Var1</td><td>0.609666</td><td>0.10042</td><td>0.64327</td><td>0.982663</td><td></td><td></td><td>Float64</td></tr><tr><th>2</th><td>Var2</td><td>0.534481</td><td>0.0416784</td><td>0.654356</td><td>0.90179</td><td></td><td></td><td>Float64</td></tr><tr><th>3</th><td>Var3</td><td>0.495537</td><td>0.0637017</td><td>0.460109</td><td>0.85039</td><td></td><td></td><td>Float64</td></tr></tbody></table>"
      ],
      "text/latex": [
       "\\begin{tabular}{r|cccccccc}\n",
       "\t& variable & mean & min & median & max & nunique & nmissing & eltype\\\\\n",
       "\t\\hline\n",
       "\t& Symbol & Float64 & Float64 & Float64 & Float64 & Nothing & Nothing & DataType\\\\\n",
       "\t\\hline\n",
       "\t1 & Var1 & 0.609666 & 0.10042 & 0.64327 & 0.982663 &  &  & Float64 \\\\\n",
       "\t2 & Var2 & 0.534481 & 0.0416784 & 0.654356 & 0.90179 &  &  & Float64 \\\\\n",
       "\t3 & Var3 & 0.495537 & 0.0637017 & 0.460109 & 0.85039 &  &  & Float64 \\\\\n",
       "\\end{tabular}\n"
      ],
      "text/plain": [
       "3×8 DataFrame. Omitted printing of 2 columns\n",
       "│ Row │ variable │ mean     │ min       │ median   │ max      │ nunique │\n",
       "│     │ \u001b[90mSymbol\u001b[39m   │ \u001b[90mFloat64\u001b[39m  │ \u001b[90mFloat64\u001b[39m   │ \u001b[90mFloat64\u001b[39m  │ \u001b[90mFloat64\u001b[39m  │ \u001b[90mNothing\u001b[39m │\n",
       "├─────┼──────────┼──────────┼───────────┼──────────┼──────────┼─────────┤\n",
       "│ 1   │ Var1     │ 0.609666 │ 0.10042   │ 0.64327  │ 0.982663 │         │\n",
       "│ 2   │ Var2     │ 0.534481 │ 0.0416784 │ 0.654356 │ 0.90179  │         │\n",
       "│ 3   │ Var3     │ 0.495537 │ 0.0637017 │ 0.460109 │ 0.85039  │         │"
      ]
     },
     "execution_count": 35,
     "metadata": {},
     "output_type": "execute_result"
    }
   ],
   "source": [
    "# Question 9: Calculate simple descriptive statistics of all the columns in df2 using the describe() function\n",
    "describe(df2)"
   ]
  },
  {
   "cell_type": "code",
   "execution_count": 36,
   "metadata": {},
   "outputs": [
    {
     "data": {
      "text/html": [
       "<table class=\"data-frame\"><thead><tr><th></th><th>Var1</th><th>Var2</th><th>Var3</th><th>Cat1</th></tr><tr><th></th><th>Float64</th><th>Float64</th><th>Float64</th><th>String</th></tr></thead><tbody><p>20 rows × 4 columns</p><tr><th>1</th><td>0.183454</td><td>0.238079</td><td>0.793259</td><td>GroupA</td></tr><tr><th>2</th><td>0.10042</td><td>0.724577</td><td>0.0637017</td><td>GroupB</td></tr><tr><th>3</th><td>0.469861</td><td>0.27834</td><td>0.682048</td><td>GroupA</td></tr><tr><th>4</th><td>0.509748</td><td>0.845894</td><td>0.389007</td><td>GroupB</td></tr><tr><th>5</th><td>0.737351</td><td>0.385296</td><td>0.405424</td><td>GroupA</td></tr><tr><th>6</th><td>0.620465</td><td>0.887309</td><td>0.83877</td><td>GroupB</td></tr><tr><th>7</th><td>0.837732</td><td>0.510466</td><td>0.46473</td><td>GroupA</td></tr><tr><th>8</th><td>0.906003</td><td>0.0416784</td><td>0.690089</td><td>GroupB</td></tr><tr><th>9</th><td>0.523951</td><td>0.140486</td><td>0.232837</td><td>GroupB</td></tr><tr><th>10</th><td>0.666074</td><td>0.671311</td><td>0.332323</td><td>GroupA</td></tr><tr><th>11</th><td>0.67073</td><td>0.857086</td><td>0.219483</td><td>GroupB</td></tr><tr><th>12</th><td>0.259171</td><td>0.764807</td><td>0.334544</td><td>GroupA</td></tr><tr><th>13</th><td>0.8607</td><td>0.701472</td><td>0.85039</td><td>GroupA</td></tr><tr><th>14</th><td>0.591217</td><td>0.382439</td><td>0.461405</td><td>GroupB</td></tr><tr><th>15</th><td>0.982663</td><td>0.732113</td><td>0.783217</td><td>GroupA</td></tr><tr><th>16</th><td>0.801367</td><td>0.110339</td><td>0.552376</td><td>GroupA</td></tr><tr><th>17</th><td>0.365878</td><td>0.189886</td><td>0.317416</td><td>GroupB</td></tr><tr><th>18</th><td>0.925427</td><td>0.637402</td><td>0.240136</td><td>GroupB</td></tr><tr><th>19</th><td>0.752976</td><td>0.688855</td><td>0.800782</td><td>GroupA</td></tr><tr><th>20</th><td>0.42813</td><td>0.90179</td><td>0.458813</td><td>GroupA</td></tr></tbody></table>"
      ],
      "text/latex": [
       "\\begin{tabular}{r|cccc}\n",
       "\t& Var1 & Var2 & Var3 & Cat1\\\\\n",
       "\t\\hline\n",
       "\t& Float64 & Float64 & Float64 & String\\\\\n",
       "\t\\hline\n",
       "\t1 & 0.183454 & 0.238079 & 0.793259 & GroupA \\\\\n",
       "\t2 & 0.10042 & 0.724577 & 0.0637017 & GroupB \\\\\n",
       "\t3 & 0.469861 & 0.27834 & 0.682048 & GroupA \\\\\n",
       "\t4 & 0.509748 & 0.845894 & 0.389007 & GroupB \\\\\n",
       "\t5 & 0.737351 & 0.385296 & 0.405424 & GroupA \\\\\n",
       "\t6 & 0.620465 & 0.887309 & 0.83877 & GroupB \\\\\n",
       "\t7 & 0.837732 & 0.510466 & 0.46473 & GroupA \\\\\n",
       "\t8 & 0.906003 & 0.0416784 & 0.690089 & GroupB \\\\\n",
       "\t9 & 0.523951 & 0.140486 & 0.232837 & GroupB \\\\\n",
       "\t10 & 0.666074 & 0.671311 & 0.332323 & GroupA \\\\\n",
       "\t11 & 0.67073 & 0.857086 & 0.219483 & GroupB \\\\\n",
       "\t12 & 0.259171 & 0.764807 & 0.334544 & GroupA \\\\\n",
       "\t13 & 0.8607 & 0.701472 & 0.85039 & GroupA \\\\\n",
       "\t14 & 0.591217 & 0.382439 & 0.461405 & GroupB \\\\\n",
       "\t15 & 0.982663 & 0.732113 & 0.783217 & GroupA \\\\\n",
       "\t16 & 0.801367 & 0.110339 & 0.552376 & GroupA \\\\\n",
       "\t17 & 0.365878 & 0.189886 & 0.317416 & GroupB \\\\\n",
       "\t18 & 0.925427 & 0.637402 & 0.240136 & GroupB \\\\\n",
       "\t19 & 0.752976 & 0.688855 & 0.800782 & GroupA \\\\\n",
       "\t20 & 0.42813 & 0.90179 & 0.458813 & GroupA \\\\\n",
       "\\end{tabular}\n"
      ],
      "text/plain": [
       "20×4 DataFrame\n",
       "│ Row │ Var1     │ Var2      │ Var3      │ Cat1   │\n",
       "│     │ \u001b[90mFloat64\u001b[39m  │ \u001b[90mFloat64\u001b[39m   │ \u001b[90mFloat64\u001b[39m   │ \u001b[90mString\u001b[39m │\n",
       "├─────┼──────────┼───────────┼───────────┼────────┤\n",
       "│ 1   │ 0.183454 │ 0.238079  │ 0.793259  │ GroupA │\n",
       "│ 2   │ 0.10042  │ 0.724577  │ 0.0637017 │ GroupB │\n",
       "│ 3   │ 0.469861 │ 0.27834   │ 0.682048  │ GroupA │\n",
       "│ 4   │ 0.509748 │ 0.845894  │ 0.389007  │ GroupB │\n",
       "│ 5   │ 0.737351 │ 0.385296  │ 0.405424  │ GroupA │\n",
       "│ 6   │ 0.620465 │ 0.887309  │ 0.83877   │ GroupB │\n",
       "│ 7   │ 0.837732 │ 0.510466  │ 0.46473   │ GroupA │\n",
       "│ 8   │ 0.906003 │ 0.0416784 │ 0.690089  │ GroupB │\n",
       "│ 9   │ 0.523951 │ 0.140486  │ 0.232837  │ GroupB │\n",
       "│ 10  │ 0.666074 │ 0.671311  │ 0.332323  │ GroupA │\n",
       "│ 11  │ 0.67073  │ 0.857086  │ 0.219483  │ GroupB │\n",
       "│ 12  │ 0.259171 │ 0.764807  │ 0.334544  │ GroupA │\n",
       "│ 13  │ 0.8607   │ 0.701472  │ 0.85039   │ GroupA │\n",
       "│ 14  │ 0.591217 │ 0.382439  │ 0.461405  │ GroupB │\n",
       "│ 15  │ 0.982663 │ 0.732113  │ 0.783217  │ GroupA │\n",
       "│ 16  │ 0.801367 │ 0.110339  │ 0.552376  │ GroupA │\n",
       "│ 17  │ 0.365878 │ 0.189886  │ 0.317416  │ GroupB │\n",
       "│ 18  │ 0.925427 │ 0.637402  │ 0.240136  │ GroupB │\n",
       "│ 19  │ 0.752976 │ 0.688855  │ 0.800782  │ GroupA │\n",
       "│ 20  │ 0.42813  │ 0.90179   │ 0.458813  │ GroupA │"
      ]
     },
     "execution_count": 36,
     "metadata": {},
     "output_type": "execute_result"
    }
   ],
   "source": [
    "# Question 10: Add a column to df2 named Cat1 to df2 consisting of randomly selecting either the strings GroupA or GroupB\n",
    "insertcols!(df2, 4, (:Cat1 => rand([\"GroupA\",\"GroupB\"],20)))\n",
    "df2"
   ]
  },
  {
   "cell_type": "code",
   "execution_count": 39,
   "metadata": {},
   "outputs": [
    {
     "data": {
      "text/html": [
       "<table class=\"data-frame\"><thead><tr><th></th><th>x1</th><th>x2</th></tr><tr><th></th><th>Int64</th><th>Int64</th></tr></thead><tbody><p>2 rows × 2 columns</p><tr><th>1</th><td>1</td><td>2</td></tr><tr><th>2</th><td>3</td><td>4</td></tr></tbody></table>"
      ],
      "text/latex": [
       "\\begin{tabular}{r|cc}\n",
       "\t& x1 & x2\\\\\n",
       "\t\\hline\n",
       "\t& Int64 & Int64\\\\\n",
       "\t\\hline\n",
       "\t1 & 1 & 2 \\\\\n",
       "\t2 & 3 & 4 \\\\\n",
       "\\end{tabular}\n"
      ],
      "text/plain": [
       "2×2 DataFrame\n",
       "│ Row │ x1    │ x2    │\n",
       "│     │ \u001b[90mInt64\u001b[39m │ \u001b[90mInt64\u001b[39m │\n",
       "├─────┼───────┼───────┤\n",
       "│ 1   │ 1     │ 2     │\n",
       "│ 2   │ 3     │ 4     │"
      ]
     },
     "execution_count": 39,
     "metadata": {},
     "output_type": "execute_result"
    }
   ],
   "source": [
    "# Question 11: Create a new DataFrame named df3\n",
    "df3=DataFrame([1 2;3 4])"
   ]
  },
  {
   "cell_type": "code",
   "execution_count": 45,
   "metadata": {},
   "outputs": [
    {
     "data": {
      "text/html": [
       "<table class=\"data-frame\"><thead><tr><th></th><th>x1</th><th>x2</th></tr><tr><th></th><th>Int64⍰</th><th>Int64⍰</th></tr></thead><tbody><p>2 rows × 2 columns</p><tr><th>1</th><td>missing</td><td>2</td></tr><tr><th>2</th><td>3</td><td>4</td></tr></tbody></table>"
      ],
      "text/latex": [
       "\\begin{tabular}{r|cc}\n",
       "\t& x1 & x2\\\\\n",
       "\t\\hline\n",
       "\t& Int64⍰ & Int64⍰\\\\\n",
       "\t\\hline\n",
       "\t1 &  & 2 \\\\\n",
       "\t2 & 3 & 4 \\\\\n",
       "\\end{tabular}\n"
      ],
      "text/plain": [
       "2×2 DataFrame\n",
       "│ Row │ x1      │ x2     │\n",
       "│     │ \u001b[90mInt64⍰\u001b[39m  │ \u001b[90mInt64⍰\u001b[39m │\n",
       "├─────┼─────────┼────────┤\n",
       "│ 1   │ \u001b[90mmissing\u001b[39m │ 2      │\n",
       "│ 2   │ 3       │ 4      │"
      ]
     },
     "execution_count": 45,
     "metadata": {},
     "output_type": "execute_result"
    }
   ],
   "source": [
    "# Question 12: Change indicated values to empty entries\n",
    "allowmissing!(df3)\n",
    "df3[1,1]=missing\n",
    "df3"
   ]
  },
  {
   "cell_type": "code",
   "execution_count": 47,
   "metadata": {},
   "outputs": [
    {
     "name": "stderr",
     "output_type": "stream",
     "text": [
      "┌ Warning: dropmissing will change eltype of cols to disallow missing by default. Use dropmissing(df, cols, disallowmissing=false) to allow for missing values.\n",
      "│   caller = ip:0x0\n",
      "└ @ Core :-1\n"
     ]
    },
    {
     "data": {
      "text/html": [
       "<table class=\"data-frame\"><thead><tr><th></th><th>x1</th><th>x2</th></tr><tr><th></th><th>Int64⍰</th><th>Int64⍰</th></tr></thead><tbody><p>1 rows × 2 columns</p><tr><th>1</th><td>3</td><td>4</td></tr></tbody></table>"
      ],
      "text/latex": [
       "\\begin{tabular}{r|cc}\n",
       "\t& x1 & x2\\\\\n",
       "\t\\hline\n",
       "\t& Int64⍰ & Int64⍰\\\\\n",
       "\t\\hline\n",
       "\t1 & 3 & 4 \\\\\n",
       "\\end{tabular}\n"
      ],
      "text/plain": [
       "1×2 DataFrame\n",
       "│ Row │ x1     │ x2     │\n",
       "│     │ \u001b[90mInt64⍰\u001b[39m │ \u001b[90mInt64⍰\u001b[39m │\n",
       "├─────┼────────┼────────┤\n",
       "│ 1   │ 3      │ 4      │"
      ]
     },
     "execution_count": 47,
     "metadata": {},
     "output_type": "execute_result"
    }
   ],
   "source": [
    "# Question 13: Create DataFrame df4 that contains no rows with NaN (NA) values\n",
    "df4 = dropmissing(df3,disallowmissing=false)"
   ]
  },
  {
   "cell_type": "code",
   "execution_count": null,
   "metadata": {},
   "outputs": [],
   "source": []
  }
 ],
 "metadata": {
  "kernelspec": {
   "display_name": "Julia 1.1.0",
   "language": "julia",
   "name": "julia-1.1"
  },
  "language_info": {
   "file_extension": ".jl",
   "mimetype": "application/julia",
   "name": "julia",
   "version": "1.1.0"
  }
 },
 "nbformat": 4,
 "nbformat_minor": 1
}
